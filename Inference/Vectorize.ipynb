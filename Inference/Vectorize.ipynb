{
 "cells": [
  {
   "cell_type": "code",
   "execution_count": 2,
   "id": "4d4128e2-3b84-44d8-b244-e8f8c3139598",
   "metadata": {},
   "outputs": [],
   "source": [
    "import rasterio\n",
    "from rasterio.features import shapes\n",
    "import geopandas as gpd\n",
    "import numpy as np\n",
    "\n",
    "\n",
    "with rasterio.open(r\"C:\\Users\\shimo\\Downloads\\Predictions_Examples\\predictions_Muliashi.tif\") as src:\n",
    "    image = src.read(1)  \n",
    "    \n",
    "    \n",
    "    mask = image == 1\n",
    "\n",
    "    \n",
    "    results = (\n",
    "        {'properties': {'raster_val': v}, 'geometry': s}\n",
    "        for s, v in shapes(image, mask=mask, transform=src.transform)\n",
    "        if v == 1  # Ensure we only include value 1\n",
    "    )\n",
    "\n",
    "    \n",
    "    geoms = list(results)\n",
    "\n",
    "gdf = gpd.GeoDataFrame.from_features(geoms)\n",
    "gdf.crs = src.crs\n",
    "\n",
    "gdf.to_file(r'C:\\Users\\shimo\\Downloads\\Predictions_Examples\\Predictions.geojson', driver='KML')\n"
   ]
  },
  {
   "cell_type": "code",
   "execution_count": 3,
   "id": "bc7073cb-1791-4634-8ef5-115016b03f4e",
   "metadata": {},
   "outputs": [
    {
     "data": {
      "application/vnd.jupyter.widget-view+json": {
       "model_id": "78a9d606279f4df69bacc36f86fdfdea",
       "version_major": 2,
       "version_minor": 0
      },
      "text/plain": [
       "Map(center=[20, 78], controls=(ZoomControl(options=['position', 'zoom_in_text', 'zoom_in_title', 'zoom_out_tex…"
      ]
     },
     "execution_count": 3,
     "metadata": {},
     "output_type": "execute_result"
    }
   ],
   "source": [
    "import leafmap\n",
    "m = leafmap.Map(center=(20, 78), zoom=20)\n",
    "m.add_basemap('HYBRID')\n",
    "m.add_vector(filename=r\"C:\\Users\\shimo\\Downloads\\Predictions_Examples\\Prediction.geojson\",\n",
    "             zoom_to_layer=True,style={\"color\": \"red\", \"weight\": 2, \"fillOpacity\": 0.2}, )\n",
    "m\n"
   ]
  },
  {
   "cell_type": "code",
   "execution_count": null,
   "id": "d74af2b3-a7c4-42cf-ae41-93551febf970",
   "metadata": {},
   "outputs": [],
   "source": []
  }
 ],
 "metadata": {
  "kernelspec": {
   "display_name": "Python 3 (ipykernel)",
   "language": "python",
   "name": "python3"
  },
  "language_info": {
   "codemirror_mode": {
    "name": "ipython",
    "version": 3
   },
   "file_extension": ".py",
   "mimetype": "text/x-python",
   "name": "python",
   "nbconvert_exporter": "python",
   "pygments_lexer": "ipython3",
   "version": "3.12.3"
  }
 },
 "nbformat": 4,
 "nbformat_minor": 5
}
